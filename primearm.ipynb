{
  "nbformat": 4,
  "nbformat_minor": 0,
  "metadata": {
    "colab": {
      "provenance": [],
      "authorship_tag": "ABX9TyM/buTDzM2gbysXcRr6jt6I",
      "include_colab_link": true
    },
    "kernelspec": {
      "name": "python3",
      "display_name": "Python 3"
    },
    "language_info": {
      "name": "python"
    }
  },
  "cells": [
    {
      "cell_type": "markdown",
      "metadata": {
        "id": "view-in-github",
        "colab_type": "text"
      },
      "source": [
        "<a href=\"https://colab.research.google.com/github/arjuuu2606/internpy/blob/beginning/primearm.ipynb\" target=\"_parent\"><img src=\"https://colab.research.google.com/assets/colab-badge.svg\" alt=\"Open In Colab\"/></a>"
      ]
    },
    {
      "cell_type": "code",
      "execution_count": null,
      "metadata": {
        "id": "vZy71tCnsXEU"
      },
      "outputs": [],
      "source": [
        "def add(*arg):\n",
        "  t=len(arg)\n",
        "  print(arg[t-1])\n",
        "\n",
        "add(5,4,3,2,1)\n",
        "add(4,3,2,1)\n",
        "add(3,2,1)\n",
        "add(2,1)\n",
        "add(1)\n",
        "\n"
      ]
    },
    {
      "cell_type": "code",
      "source": [
        "def addition(num1,num2):\n",
        "  return num1+num2\n",
        "num1=int(input())\n",
        "num2=int(input())\n",
        "addition(num1,num2)"
      ],
      "metadata": {
        "id": "bsKrRiX9shTI"
      },
      "execution_count": null,
      "outputs": []
    },
    {
      "cell_type": "code",
      "source": [
        "a=int(input())\n",
        "b=int(input())\n",
        "\n",
        "for i in range(a,b+1):\n",
        "  flag=0\n",
        "  for j in range (2,i):\n",
        "    if i%j==0:\n",
        "        flag=1\n",
        "\n",
        "  if flag==0:\n",
        "    print(i)\n"
      ],
      "metadata": {
        "id": "-q4axeDfsknD"
      },
      "execution_count": null,
      "outputs": []
    },
    {
      "cell_type": "code",
      "source": [
        "def armstrong(n):\n",
        "  s=0\n",
        "  while n>0:\n",
        "     a=n%10\n",
        "     s=int(s+(a*a*a))\n",
        "     n=int(n/10)\n",
        "  return s\n",
        "i=int(input())\n",
        "temp=i\n",
        "j=armstrong(i)\n",
        "if j==temp:\n",
        " print(j,\"armstrong\")\n",
        "else:\n",
        " print(\"not a armstrong\")\n"
      ],
      "metadata": {
        "id": "KPVCNaUYs6hh"
      },
      "execution_count": null,
      "outputs": []
    }
  ]
}