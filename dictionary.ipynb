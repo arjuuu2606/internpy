{
  "nbformat": 4,
  "nbformat_minor": 0,
  "metadata": {
    "colab": {
      "provenance": [],
      "toc_visible": true,
      "authorship_tag": "ABX9TyMfzId5erfFA4Z8BsQt44UT",
      "include_colab_link": true
    },
    "kernelspec": {
      "name": "python3",
      "display_name": "Python 3"
    },
    "language_info": {
      "name": "python"
    }
  },
  "cells": [
    {
      "cell_type": "markdown",
      "metadata": {
        "id": "view-in-github",
        "colab_type": "text"
      },
      "source": [
        "<a href=\"https://colab.research.google.com/github/arjuuu2606/internpy/blob/beginning/dictionary.ipynb\" target=\"_parent\"><img src=\"https://colab.research.google.com/assets/colab-badge.svg\" alt=\"Open In Colab\"/></a>"
      ]
    },
    {
      "cell_type": "code",
      "execution_count": 11,
      "metadata": {
        "colab": {
          "base_uri": "https://localhost:8080/"
        },
        "id": "_1fKb0AaD0Y7",
        "outputId": "b68934e1-78e8-49cd-f571-682c0d70cb44"
      },
      "outputs": [
        {
          "output_type": "stream",
          "name": "stdout",
          "text": [
            "dict_keys(['name', 'age', 'subject'])\n",
            "dict_values(['arju', 20, ['python', 'c++']])\n",
            "dict_items([('name', 'arju'), ('age', 20), ('subject', ['python', 'c++'])])\n"
          ]
        }
      ],
      "source": [
        "user={\"name\":\"arju\",\n",
        "      \"age\":20,\n",
        "      \"subject\":list((\"python\",\"c++\"))\n",
        "     }\n",
        "user[\"subject\"]\n",
        "z=user.keys()\n",
        "print(z)\n",
        "print(user.values())\n",
        "print(user.items())"
      ]
    },
    {
      "cell_type": "code",
      "source": [
        "user={\"name\":\"arju\",\n",
        "      \"age\":20,\n",
        "      \"subject\":list((\"python\",\"c++\"))\n",
        "     }\n",
        "user[\"subject\"]\n",
        "print(user.keys())\n",
        "print(user.items())\n",
        "for key,value in user.items():\n",
        "  print(key,value)\n",
        "\n"
      ],
      "metadata": {
        "colab": {
          "base_uri": "https://localhost:8080/"
        },
        "id": "GAwC8zpoHFoG",
        "outputId": "d94cb73b-1811-4bd3-92f9-1b4406239940"
      },
      "execution_count": 14,
      "outputs": [
        {
          "output_type": "stream",
          "name": "stdout",
          "text": [
            "dict_keys(['name', 'age', 'subject'])\n",
            "dict_items([('name', 'arju'), ('age', 20), ('subject', ['python', 'c++'])])\n",
            "name arju\n",
            "age 20\n",
            "subject ['python', 'c++']\n"
          ]
        }
      ]
    },
    {
      "cell_type": "code",
      "source": [
        "user={\"name\":\"arju\",\n",
        "      \"age\":20,\n",
        "      \"subject\":list((\"python\",\"c++\"))\n",
        "     }\n",
        "user[\"subject\"]\n",
        "user[\"age\"]=21\n",
        "user.update({\"name\":\"kanishka\"})\n",
        "print(user.items())"
      ],
      "metadata": {
        "colab": {
          "base_uri": "https://localhost:8080/"
        },
        "id": "QTns2oYtHxFJ",
        "outputId": "d6eee476-40e1-405d-ad04-ce36f4d56e86"
      },
      "execution_count": 22,
      "outputs": [
        {
          "output_type": "stream",
          "name": "stdout",
          "text": [
            "dict_items([('name', 'kanishka'), ('age', 21), ('subject', ['python', 'c++'])])\n"
          ]
        }
      ]
    },
    {
      "cell_type": "code",
      "source": [
        "user={\"name\":\"arju\",\n",
        "      \"age\":20,\n",
        "      \"subject\":list((\"python\",\"c++\"))\n",
        "     }\n",
        "user[\"id\"]=1\n",
        "print(user.items())\n"
      ],
      "metadata": {
        "colab": {
          "base_uri": "https://localhost:8080/"
        },
        "id": "souILgdUIUB-",
        "outputId": "3f700755-5748-444b-ad5a-b54b45b28df9"
      },
      "execution_count": 24,
      "outputs": [
        {
          "output_type": "stream",
          "name": "stdout",
          "text": [
            "dict_items([('name', 'arju'), ('age', 20), ('subject', ['python', 'c++']), ('id', 1)])\n"
          ]
        }
      ]
    },
    {
      "cell_type": "code",
      "source": [
        "user={\"name\":\"arju\",\n",
        "      \"age\":20,\n",
        "      \"subject\":list((\"python\",\"c++\"))\n",
        "     }\n",
        "print(user.pop(\"name\"))\n",
        "print(user.items())\n",
        "\n"
      ],
      "metadata": {
        "colab": {
          "base_uri": "https://localhost:8080/"
        },
        "id": "6nqw5FjKJznV",
        "outputId": "9b3bd3cd-67c9-4aa5-a70b-14748116c4f3"
      },
      "execution_count": 37,
      "outputs": [
        {
          "output_type": "stream",
          "name": "stdout",
          "text": [
            "arju\n",
            "dict_items([('age', 20), ('subject', ['python', 'c++'])])\n"
          ]
        }
      ]
    },
    {
      "cell_type": "code",
      "source": [
        "user={\"name\":\"arju\",\n",
        "      \"age\":20,\n",
        "      \"subject\":list((\"python\",\"c++\"))\n",
        "     }\n",
        "print(user.popitem())\n",
        "print(user.items())"
      ],
      "metadata": {
        "colab": {
          "base_uri": "https://localhost:8080/"
        },
        "id": "lBFGQFUVKuhe",
        "outputId": "4e3453c6-0add-45fd-925f-de006a677f1c"
      },
      "execution_count": 34,
      "outputs": [
        {
          "output_type": "stream",
          "name": "stdout",
          "text": [
            "('subject', ['python', 'c++'])\n",
            "dict_items([('name', 'arju'), ('age', 20)])\n"
          ]
        }
      ]
    },
    {
      "cell_type": "code",
      "source": [
        "user={\"name\":\"arju\",\n",
        "      \"age\":20,\n",
        "      \"subject\":list((\"python\",\"c++\"))\n",
        "     }\n",
        "del user[\"name\"]\n",
        "print(user.items())\n"
      ],
      "metadata": {
        "colab": {
          "base_uri": "https://localhost:8080/"
        },
        "id": "Nx7zGpRXLL9F",
        "outputId": "828a789c-af4b-4db6-c840-d57a6343c030"
      },
      "execution_count": 36,
      "outputs": [
        {
          "output_type": "stream",
          "name": "stdout",
          "text": [
            "dict_items([('age', 20), ('subject', ['python', 'c++'])])\n"
          ]
        }
      ]
    },
    {
      "cell_type": "code",
      "source": [],
      "metadata": {
        "id": "EnWWopzrLvVv"
      },
      "execution_count": null,
      "outputs": []
    },
    {
      "cell_type": "code",
      "source": [],
      "metadata": {
        "id": "b0i6GvDqMF5B"
      },
      "execution_count": null,
      "outputs": []
    }
  ]
}