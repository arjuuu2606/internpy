{
  "nbformat": 4,
  "nbformat_minor": 0,
  "metadata": {
    "colab": {
      "provenance": [],
      "authorship_tag": "ABX9TyOdz6VOoU8q8OvsRHJojEdv",
      "include_colab_link": true
    },
    "kernelspec": {
      "name": "python3",
      "display_name": "Python 3"
    },
    "language_info": {
      "name": "python"
    }
  },
  "cells": [
    {
      "cell_type": "markdown",
      "metadata": {
        "id": "view-in-github",
        "colab_type": "text"
      },
      "source": [
        "<a href=\"https://colab.research.google.com/github/arjuuu2606/internpy/blob/beginning/listinput.ipynb\" target=\"_parent\"><img src=\"https://colab.research.google.com/assets/colab-badge.svg\" alt=\"Open In Colab\"/></a>"
      ]
    },
    {
      "cell_type": "code",
      "execution_count": null,
      "metadata": {
        "id": "HvL03t1fcYX8"
      },
      "outputs": [],
      "source": [
        "list = []\n",
        "num = int(input('How many numbers: '))\n",
        "\n",
        "for n in range(num):\n",
        "    numbers = int(input('Enter number '))\n",
        "    list.append(numbers)\n",
        "\n",
        "print(\"Sum of elements in given list is :\", sum(list))\n"
      ]
    },
    {
      "cell_type": "code",
      "source": [
        "list = []\n",
        "num = int(input('How many numbers: '))\n",
        "numbers = int(input('Enter number '))\n",
        "max=numbers\n",
        "for i in range(1,num):\n",
        "    n=int(input())\n",
        "    if n>max:\n",
        "        max=n\n",
        "        list.append(n)\n",
        "print(max)\n",
        ""
      ],
      "metadata": {
        "colab": {
          "base_uri": "https://localhost:8080/"
        },
        "id": "RM8rGOkZieya",
        "outputId": "b8251e9a-d47d-46ea-95d5-3f7ee1030b4f"
      },
      "execution_count": null,
      "outputs": [
        {
          "name": "stdout",
          "output_type": "stream",
          "text": [
            "How many numbers: \n"
          ]
        }
      ]
    },
    {
      "cell_type": "code",
      "source": [
        "values = [\"naman\", \"anas\", \"anam\", \"sana\", \"mum\", \"nayan\", \"ayua\"]\n",
        "new_values = []\n",
        "for val in values:\n",
        "  length=len(val)\n",
        "  if length>2:\n",
        "   if val[0]==val[length-1]:\n",
        "    new_values.append(val)\n",
        "print(new_values)\n",
        "\n"
      ],
      "metadata": {
        "colab": {
          "base_uri": "https://localhost:8080/"
        },
        "id": "s4m6cNy3n2Ox",
        "outputId": "548213ed-3337-4d69-ffda-25b56144ccfd"
      },
      "execution_count": 2,
      "outputs": [
        {
          "output_type": "stream",
          "name": "stdout",
          "text": [
            "['naman', 'mum', 'nayan', 'ayua']\n"
          ]
        }
      ]
    }
  ]
}