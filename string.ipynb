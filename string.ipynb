{
  "nbformat": 4,
  "nbformat_minor": 0,
  "metadata": {
    "colab": {
      "provenance": [],
      "authorship_tag": "ABX9TyOwz7CtfJnt04n1xjoJ7JHn",
      "include_colab_link": true
    },
    "kernelspec": {
      "name": "python3",
      "display_name": "Python 3"
    },
    "language_info": {
      "name": "python"
    }
  },
  "cells": [
    {
      "cell_type": "markdown",
      "metadata": {
        "id": "view-in-github",
        "colab_type": "text"
      },
      "source": [
        "<a href=\"https://colab.research.google.com/github/arjuuu2606/internpy/blob/beginning/string.ipynb\" target=\"_parent\"><img src=\"https://colab.research.google.com/assets/colab-badge.svg\" alt=\"Open In Colab\"/></a>"
      ]
    },
    {
      "cell_type": "code",
      "execution_count": null,
      "metadata": {
        "id": "ysa5rRzatDRQ"
      },
      "outputs": [],
      "source": [
        "s=input()\n",
        "revr=\"\"\n",
        "result=s.split()\n",
        "for i in result:\n",
        " str=i\n",
        " rev=\"\"\n",
        " length=len(str)\n",
        " while length>0:\n",
        "   length-=1\n",
        "   rev+=str[length]\n",
        " revr=revr+rev+\" \"\n",
        "print(revr)"
      ]
    },
    {
      "cell_type": "code",
      "source": [],
      "metadata": {
        "id": "uvxiIq84rptx"
      },
      "execution_count": null,
      "outputs": []
    },
    {
      "cell_type": "code",
      "source": [
        "s=(input())\n",
        "lengthof=len(s)\n",
        "str=\"\"\n",
        "while lengthof>0:\n",
        "  lengthof-=1\n",
        "  str+=s[lengthof]\n",
        "print(str)"
      ],
      "metadata": {
        "id": "w_vHAXVPtHZJ"
      },
      "execution_count": null,
      "outputs": []
    },
    {
      "cell_type": "code",
      "source": [
        "s=\"arju\"\n",
        "lengthof=len(s)\n",
        "str=\"\"\n",
        "while lengthof>0:\n",
        "  lengthof-=1\n",
        "  str+=s[lengthof]\n",
        "print(str)"
      ],
      "metadata": {
        "id": "YsZjd_4WtNQE",
        "colab": {
          "base_uri": "https://localhost:8080/"
        },
        "outputId": "215ca5f5-81d1-4e5c-8d62-854158db8136"
      },
      "execution_count": 10,
      "outputs": [
        {
          "output_type": "stream",
          "name": "stdout",
          "text": [
            "ujra\n"
          ]
        }
      ]
    },
    {
      "cell_type": "code",
      "source": [],
      "metadata": {
        "id": "qeo7ooRJpDRE"
      },
      "execution_count": null,
      "outputs": []
    },
    {
      "cell_type": "code",
      "source": [
        "str=input()\n",
        "length=len(str)\n",
        "for i in range(0,length):\n",
        " if(i%2==0):\n",
        "  print(str[i])\n",
        "\n"
      ],
      "metadata": {
        "id": "JvYtB2MhtpuR",
        "colab": {
          "base_uri": "https://localhost:8080/"
        },
        "outputId": "2da1f1fa-9b97-4613-8a5a-9848ddd6e8f0"
      },
      "execution_count": 8,
      "outputs": [
        {
          "output_type": "stream",
          "name": "stdout",
          "text": [
            "arju singh\n",
            "a\n",
            "j\n",
            " \n",
            "i\n",
            "g\n"
          ]
        }
      ]
    }
  ]
}