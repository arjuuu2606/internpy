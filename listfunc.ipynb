{
  "nbformat": 4,
  "nbformat_minor": 0,
  "metadata": {
    "colab": {
      "provenance": [],
      "authorship_tag": "ABX9TyOoyLzYmUNzq1UgpXA+dAkp",
      "include_colab_link": true
    },
    "kernelspec": {
      "name": "python3",
      "display_name": "Python 3"
    },
    "language_info": {
      "name": "python"
    }
  },
  "cells": [
    {
      "cell_type": "markdown",
      "metadata": {
        "id": "view-in-github",
        "colab_type": "text"
      },
      "source": [
        "<a href=\"https://colab.research.google.com/github/arjuuu2606/internpy/blob/beginning/listfunc.ipynb\" target=\"_parent\"><img src=\"https://colab.research.google.com/assets/colab-badge.svg\" alt=\"Open In Colab\"/></a>"
      ]
    },
    {
      "cell_type": "code",
      "execution_count": 19,
      "metadata": {
        "colab": {
          "base_uri": "https://localhost:8080/"
        },
        "id": "oqZQvkDT-6fS",
        "outputId": "8d16945f-658b-460f-8d58-b17ad95469b4"
      },
      "outputs": [
        {
          "output_type": "stream",
          "name": "stdout",
          "text": [
            "['arju', 'neha', 'mansvi', 'payal', 'krishna']\n",
            "['arju', 'neha', 'mansvi', 'payal', 'garima', 'krishna']\n"
          ]
        },
        {
          "output_type": "execute_result",
          "data": {
            "text/plain": [
              "['arju', 'neha', 'mansvi', 'payal', 'garima']"
            ]
          },
          "metadata": {},
          "execution_count": 19
        }
      ],
      "source": [
        "user=list((\"arju\",\"neha\",\"mansvi\",\"payal\"))\n",
        "user.append(\"krishna\")\n",
        "print (user)\n",
        "user.insert(4,\"garima\")\n",
        "print(user)\n",
        "user[0:5]"
      ]
    },
    {
      "cell_type": "code",
      "source": [
        "user=list((\"arju\",\"neha\",\"mansvi\",\"payal\"))\n",
        "user.append(\"krishna\")\n",
        "print (user)\n",
        "user.insert(4,\"garima\")\n",
        "print(user)"
      ],
      "metadata": {
        "colab": {
          "base_uri": "https://localhost:8080/"
        },
        "id": "E-BhZMRzGpam",
        "outputId": "7935fc82-5b55-471c-80d3-9185ed36c632"
      },
      "execution_count": 25,
      "outputs": [
        {
          "output_type": "stream",
          "name": "stdout",
          "text": [
            "['arju', 'neha', 'mansvi', 'payal', 'krishna']\n",
            "['arju', 'neha', 'mansvi', 'payal', 'garima', 'krishna']\n"
          ]
        }
      ]
    },
    {
      "cell_type": "code",
      "source": [
        "color=list((\"red\",\"green\",\"blue\",\"yellow\"))\n",
        "color2=list((\"lavender\",\"black\",\"white\"))\n",
        "color.extend(color2)\n",
        "print(color)"
      ],
      "metadata": {
        "colab": {
          "base_uri": "https://localhost:8080/"
        },
        "id": "GqsBbqCMGugE",
        "outputId": "c7e5a624-b0ed-4872-86d6-87af773ebefa"
      },
      "execution_count": 26,
      "outputs": [
        {
          "output_type": "stream",
          "name": "stdout",
          "text": [
            "['red', 'green', 'blue', 'yellow', 'lavender', 'black', 'white']\n"
          ]
        }
      ]
    },
    {
      "cell_type": "code",
      "source": [
        "color=list((\"red\",\"green\",\"blue\",\"yellow\"))\n",
        "color.remove(\"blue\")\n",
        "print(color)"
      ],
      "metadata": {
        "colab": {
          "base_uri": "https://localhost:8080/"
        },
        "id": "aWcixakxHkIm",
        "outputId": "9cff1793-cfb2-4535-8bc9-0b531b8efaa3"
      },
      "execution_count": 27,
      "outputs": [
        {
          "output_type": "stream",
          "name": "stdout",
          "text": [
            "['red', 'green', 'yellow']\n"
          ]
        }
      ]
    },
    {
      "cell_type": "code",
      "source": [
        "color=list((\"red\",\"green\",\"blue\",\"yellow\"))\n",
        "color.pop(2)\n",
        "print(color)"
      ],
      "metadata": {
        "colab": {
          "base_uri": "https://localhost:8080/"
        },
        "id": "dJ8kp8j_H-0v",
        "outputId": "226a01c9-f8b6-44ec-ccbf-57015093fdf5"
      },
      "execution_count": 31,
      "outputs": [
        {
          "output_type": "stream",
          "name": "stdout",
          "text": [
            "['red', 'green', 'yellow']\n"
          ]
        }
      ]
    },
    {
      "cell_type": "code",
      "source": [
        "user=list((\"arju\",\"neha\",\"mansvi\",\"payal\"))\n",
        "user.append(\"krishna\")\n",
        "print (user)\n",
        "user.insert(4,\"garima\")\n",
        "print(user)\n",
        "user[0:5]\n",
        "if 'ghj' in user:\n",
        "  print(\"true\")\n",
        "else:\n",
        "  print(\"false\")\n"
      ],
      "metadata": {
        "colab": {
          "base_uri": "https://localhost:8080/"
        },
        "id": "iAZXaOqBGDeD",
        "outputId": "1c4991a0-a102-4484-cbeb-23fa6cdb580a"
      },
      "execution_count": 24,
      "outputs": [
        {
          "output_type": "stream",
          "name": "stdout",
          "text": [
            "['arju', 'neha', 'mansvi', 'payal', 'krishna']\n",
            "['arju', 'neha', 'mansvi', 'payal', 'garima', 'krishna']\n",
            "false\n"
          ]
        }
      ]
    }
  ]
}