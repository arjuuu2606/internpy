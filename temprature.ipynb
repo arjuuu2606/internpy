{
  "cells": [
    {
      "cell_type": "markdown",
      "metadata": {
        "id": "view-in-github",
        "colab_type": "text"
      },
      "source": [
        "<a href=\"https://colab.research.google.com/github/arjuuu2606/internpy/blob/beginning/temprature.ipynb\" target=\"_parent\"><img src=\"https://colab.research.google.com/assets/colab-badge.svg\" alt=\"Open In Colab\"/></a>"
      ]
    },
    {
      "cell_type": "code",
      "execution_count": null,
      "metadata": {
        "colab": {
          "base_uri": "https://localhost:8080/"
        },
        "id": "mPZ7cJMzsBbX",
        "outputId": "f66781f1-5ae8-4eb2-cd76-19e853edea4f"
      },
      "outputs": [
        {
          "metadata": {
            "tags": null
          },
          "name": "stdout",
          "output_type": "stream",
          "text": [
            "674\n"
          ]
        }
      ],
      "source": [
        "import random\n",
        "y = random.randint(1,1000)\n",
        "print(y)\n",
        "a=int(input('enter the number between 0 to 1000 '))\n",
        "count=0\n",
        "while  not a==y:\n",
        "  if a>y:\n",
        "    print(\"number is greater than the random number\")\n",
        "    count+=1\n",
        "  elif a<y:\n",
        "    print(\"number is less than the random number \")\n",
        "    count+=1\n",
        "  a=int(input('OOPS! Try again '))\n",
        "if a==y:\n",
        "  print(a)\n",
        "print('number of tries',count)\n"
      ]
    },
    {
      "cell_type": "code",
      "execution_count": null,
      "metadata": {
        "id": "1CC9Kin6GaR9"
      },
      "outputs": [],
      "source": [
        "hgt=float(input(\"Enter your height in cm\"))\n",
        "wgt=float(input(\"Enter your weight in kg\"))\n",
        "bmi=wgt/float(hgt/100*hgt/100)\n",
        "if bmi<18.5:\n",
        "  print(\"You are Underweight\")\n",
        "elif bmi<=24.9:\n",
        "  print(\"You are Normal\")\n",
        "elif bmi<=29.9:\n",
        "  print(\"You are Overweight\")\n",
        "else:\n",
        "  print(\"You are obesity\")\n",
        "print(\"Your BMI is \",bmi )\n"
      ]
    },
    {
      "cell_type": "code",
      "source": [
        "usertemp=int(input(\"Enter the temperature \"))\n",
        "unitofuser=input(\"From \")\n",
        "print(\"Celsius, Fahrenheit, Kelvin\")\n",
        "changeto=input(\"To\")\n",
        "if unitofuser==\"Celsius\":\n",
        "  if changeto==\"Fahrenheit\":\n",
        "    changed=float(usertemp*(9//5)+32)\n",
        "    print(changed)\n",
        "\n",
        "  if changeto==\"Kelvin\":\n",
        "    changed=float(usertemp+273.15)\n",
        "    print(changed)\n",
        "\n",
        "if unitofuser==\"Fahrenheit\":\n",
        "  if  changeto==\"Celsius\":\n",
        "    changed=float((usertemp-32)*(5//9))\n",
        "    print(changed)\n",
        "\n",
        "  if changeto==\"Kelvin\":\n",
        "    changed=float(((usertemp-32)*(5//9))+273.15)\n",
        "    print(changed)\n",
        "\n",
        "if unitofuser==\"Kelvin\":\n",
        "  if changeto==\"Celsius\":\n",
        "    changed=float(usertemp-273.15)\n",
        "    print(changed)\n",
        "\n",
        "  if changeto==\"Fahrenheit\":\n",
        "    changed=float(((usertemp-273.15)*(9//5))+32)\n",
        "    print(changed)"
      ],
      "metadata": {
        "id": "5l_Telz4-ODh"
      },
      "execution_count": null,
      "outputs": []
    },
    {
      "cell_type": "code",
      "execution_count": null,
      "metadata": {
        "id": "_LQMHzJa-SvZ"
      },
      "outputs": [],
      "source": [
        "\n",
        "a=float(input('enter the marks '))\n",
        "b=(a/1000)*100\n",
        "b=float(b)\n",
        "if b>90:\n",
        "  print(\"your grade is A\")\n",
        "elif b>80 and b<90:\n",
        "  print(\"your grade is B\")\n",
        "elif b>70 and b<80:\n",
        "  print(\"your grade is C\")\n",
        "elif b>60 and b<70:\n",
        "  print(\"your grade is D\")\n",
        "elif b<60:\n",
        "  print(\"you are fail\")"
      ]
    }
  ],
  "metadata": {
    "colab": {
      "provenance": [],
      "authorship_tag": "ABX9TyOG0CCQXA86A1L+ZmdS9KLi",
      "include_colab_link": true
    },
    "kernelspec": {
      "display_name": "Python 3",
      "name": "python3"
    },
    "language_info": {
      "name": "python"
    }
  },
  "nbformat": 4,
  "nbformat_minor": 0
}