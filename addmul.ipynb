{
  "nbformat": 4,
  "nbformat_minor": 0,
  "metadata": {
    "colab": {
      "provenance": [],
      "authorship_tag": "ABX9TyPftEWmowin8C79dNDt/JAP",
      "include_colab_link": true
    },
    "kernelspec": {
      "name": "python3",
      "display_name": "Python 3"
    },
    "language_info": {
      "name": "python"
    }
  },
  "cells": [
    {
      "cell_type": "markdown",
      "metadata": {
        "id": "view-in-github",
        "colab_type": "text"
      },
      "source": [
        "<a href=\"https://colab.research.google.com/github/arjuuu2606/internpy/blob/beginning/addmul.ipynb\" target=\"_parent\"><img src=\"https://colab.research.google.com/assets/colab-badge.svg\" alt=\"Open In Colab\"/></a>"
      ]
    },
    {
      "cell_type": "code",
      "execution_count": 1,
      "metadata": {
        "colab": {
          "base_uri": "https://localhost:8080/"
        },
        "id": "V_U4WkTl5sK7",
        "outputId": "00b30d5d-0d98-4d0f-adf1-437e852301c6"
      },
      "outputs": [
        {
          "output_type": "stream",
          "name": "stdout",
          "text": [
            "enter a number10\n",
            "enter another number20\n",
            "30\n",
            "-10\n",
            "200\n",
            "10\n",
            "0.5\n"
          ]
        }
      ],
      "source": [
        "a=input(\"enter a number\")\n",
        "a=int(a)\n",
        "b=input(\"enter another number\")\n",
        "b=int(b)\n",
        "print (a+b)\n",
        "print(a-b)\n",
        "print(a*b)\n",
        "print (a%b)\n",
        "print(a/b)"
      ]
    }
  ]
}