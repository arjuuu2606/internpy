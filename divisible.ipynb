{
  "nbformat": 4,
  "nbformat_minor": 0,
  "metadata": {
    "colab": {
      "provenance": [],
      "authorship_tag": "ABX9TyMhh+cKzhhAc6USpJ7E1xEy",
      "include_colab_link": true
    },
    "kernelspec": {
      "name": "python3",
      "display_name": "Python 3"
    },
    "language_info": {
      "name": "python"
    }
  },
  "cells": [
    {
      "cell_type": "markdown",
      "metadata": {
        "id": "view-in-github",
        "colab_type": "text"
      },
      "source": [
        "<a href=\"https://colab.research.google.com/github/arjuuu2606/internpy/blob/beginning/divisible.ipynb\" target=\"_parent\"><img src=\"https://colab.research.google.com/assets/colab-badge.svg\" alt=\"Open In Colab\"/></a>"
      ]
    },
    {
      "cell_type": "code",
      "execution_count": null,
      "metadata": {
        "colab": {
          "base_uri": "https://localhost:8080/"
        },
        "id": "V_U4WkTl5sK7",
        "outputId": "00b30d5d-0d98-4d0f-adf1-437e852301c6"
      },
      "outputs": [
        {
          "output_type": "stream",
          "name": "stdout",
          "text": [
            "enter a number10\n",
            "enter another number20\n",
            "30\n",
            "-10\n",
            "200\n",
            "10\n",
            "0.5\n"
          ]
        }
      ],
      "source": [
        "a=input(\"enter a number\")\n",
        "a=int(a)\n",
        "b=input(\"enter another number\")\n",
        "b=int(b)\n",
        "print (a+b)\n",
        "print(a-b)\n",
        "print(a*b)\n",
        "print (a%b)\n",
        "print(a/b)"
      ]
    },
    {
      "cell_type": "code",
      "source": [
        "a=input(\"enter a number\")\n",
        "a=int(a)\n",
        "b=input(\"enter 2nd number\")\n",
        "b=int(b)\n",
        "c=input(\"enter 3rd number\")\n",
        "c=int(c)\n",
        "if a>b and a>c:\n",
        "  print(\"a is bigger\")\n",
        "elif b>a and b>c:\n",
        "  print(\"b is greater\")\n",
        "else:\n",
        "  print(\"c is greater\")\n"
      ],
      "metadata": {
        "colab": {
          "base_uri": "https://localhost:8080/"
        },
        "id": "H_taI6CcDf8M",
        "outputId": "73e769a9-c86f-4cff-a0f1-0ad9bee49443"
      },
      "execution_count": null,
      "outputs": [
        {
          "output_type": "stream",
          "name": "stdout",
          "text": [
            "enter a number2\n",
            "enter 2nd number10\n",
            "enter 3rd number5\n",
            "b is greater\n"
          ]
        }
      ]
    },
    {
      "cell_type": "code",
      "source": [
        "a=input(\"enter a value\")\n",
        "a=int(a)\n",
        "if a%3==0:\n",
        "  print(\"number is divisible by 3\")\n",
        "if a%5==0:\n",
        "  print(\"number is divisible by 5\")\n",
        "if a%7==0:\n",
        "  print(\"number is divisible by 7\")\n",
        "else:\n",
        "  print(\"number is not divisible by any number\")\n"
      ],
      "metadata": {
        "id": "vDzeaQx66ukC"
      },
      "execution_count": null,
      "outputs": []
    },
    {
      "cell_type": "code",
      "source": [
        "a=input(\"enter a value\")\n",
        "a=int(a)\n",
        "if a>0:\n",
        "  print(\"number is positive\")\n",
        "elif a<0:\n",
        "  print(\"number is negative\")\n",
        "else:\n",
        "  print(\"number is zero\")\n",
        "\n"
      ],
      "metadata": {
        "id": "CT2HT5oo5_Hp"
      },
      "execution_count": null,
      "outputs": []
    },
    {
      "cell_type": "code",
      "source": [
        "a=input(\"enter a value\")\n",
        "a=int(a)\n",
        "if a==1:\n",
        "  print(\"one\")\n",
        "elif a==2:\n",
        "    print(\"two\")\n",
        "elif a==3:\n",
        "    print(\"three\")\n",
        "elif a==4:\n",
        "    print(\"four\")\n",
        "elif a==5:\n",
        "    print(\"five\")\n",
        "elif a==6:\n",
        "    print(\"six\")\n",
        "elif a==7:\n",
        "    print(\"seven\")\n",
        "elif a==8:\n",
        "    print(\"eight\")\n",
        "elif a==9:\n",
        "    print(\"nine\")\n",
        "elif a==10:\n",
        "    print(\"ten\")\n",
        "else:\n",
        "  print(\"invalid output\")\n"
      ],
      "metadata": {
        "colab": {
          "base_uri": "https://localhost:8080/"
        },
        "id": "E0WJydIL6Mq3",
        "outputId": "ec51cd78-986d-466d-c370-627f265b2d2c"
      },
      "execution_count": null,
      "outputs": [
        {
          "output_type": "stream",
          "name": "stdout",
          "text": [
            "enter a value20\n",
            "invalid output\n"
          ]
        }
      ]
    }
  ]
}