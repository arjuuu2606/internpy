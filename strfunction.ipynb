{
  "nbformat": 4,
  "nbformat_minor": 0,
  "metadata": {
    "colab": {
      "provenance": [],
      "authorship_tag": "ABX9TyNIIBgCXI//fA3f609L6C2G",
      "include_colab_link": true
    },
    "kernelspec": {
      "name": "python3",
      "display_name": "Python 3"
    },
    "language_info": {
      "name": "python"
    }
  },
  "cells": [
    {
      "cell_type": "markdown",
      "metadata": {
        "id": "view-in-github",
        "colab_type": "text"
      },
      "source": [
        "<a href=\"https://colab.research.google.com/github/arjuuu2606/internpy/blob/beginning/strfunction.ipynb\" target=\"_parent\"><img src=\"https://colab.research.google.com/assets/colab-badge.svg\" alt=\"Open In Colab\"/></a>"
      ]
    },
    {
      "cell_type": "code",
      "execution_count": 6,
      "metadata": {
        "colab": {
          "base_uri": "https://localhost:8080/"
        },
        "id": "lId6scFQ1Ror",
        "outputId": "eb73bec4-eab7-4929-a2fd-9e27d57cc6df"
      },
      "outputs": [
        {
          "output_type": "stream",
          "name": "stdout",
          "text": [
            "nameis\n"
          ]
        }
      ],
      "source": [
        "str=\"mynameisarju\"\n",
        "st=str[2:8]\n",
        "print(st)"
      ]
    },
    {
      "cell_type": "code",
      "source": [
        "str=\"mynameisarju\"\n",
        "upper=str.upper()\n",
        "print(upper)"
      ],
      "metadata": {
        "colab": {
          "base_uri": "https://localhost:8080/"
        },
        "id": "TMCyALM72Gdn",
        "outputId": "09573388-095f-4da7-8fb3-a54befc0b874"
      },
      "execution_count": 8,
      "outputs": [
        {
          "output_type": "stream",
          "name": "stdout",
          "text": [
            "MYNAMEISARJU\n"
          ]
        }
      ]
    },
    {
      "cell_type": "code",
      "source": [
        "str=\"  MY NAME IS   \"\n",
        "st=str.strip()\n",
        "st=str.strip('  MY')\n",
        "print(st)\n"
      ],
      "metadata": {
        "colab": {
          "base_uri": "https://localhost:8080/"
        },
        "id": "ZoTfAoKl2nSy",
        "outputId": "84c1f5ab-aeba-45ef-f590-5736f4cee36d"
      },
      "execution_count": 12,
      "outputs": [
        {
          "output_type": "stream",
          "name": "stdout",
          "text": [
            "NAME IS\n"
          ]
        }
      ]
    },
    {
      "cell_type": "code",
      "source": [
        "str=\"  my name is  \"\n",
        "le=len(str)\n",
        "print(le)\n",
        "st=str.strip()\n",
        "print(st)\n",
        "le=len(st)\n",
        "print(le)"
      ],
      "metadata": {
        "colab": {
          "base_uri": "https://localhost:8080/"
        },
        "id": "6pxz_6wB3GTu",
        "outputId": "36265637-4f6a-46ee-a1e9-729ab80175b2"
      },
      "execution_count": 16,
      "outputs": [
        {
          "output_type": "stream",
          "name": "stdout",
          "text": [
            "14\n",
            "my name is\n",
            "10\n"
          ]
        }
      ]
    },
    {
      "cell_type": "code",
      "source": [
        "str='my name is'\n",
        "re=str.replace(\"s\",\"a\")\n",
        "print(re)"
      ],
      "metadata": {
        "colab": {
          "base_uri": "https://localhost:8080/"
        },
        "id": "dzU40MoD5VCM",
        "outputId": "6231c98b-381d-479e-a3d9-3230599bf268"
      },
      "execution_count": 18,
      "outputs": [
        {
          "output_type": "stream",
          "name": "stdout",
          "text": [
            "my name ia\n"
          ]
        }
      ]
    },
    {
      "cell_type": "code",
      "source": [
        "str='my anme is arju'\n",
        "\n",
        "re=str.replace(\" \",\" \")\n",
        "print(re)"
      ],
      "metadata": {
        "colab": {
          "base_uri": "https://localhost:8080/"
        },
        "id": "NLLXoZs66JM3",
        "outputId": "5cfd227e-c70b-445a-d35d-5e040567b355"
      },
      "execution_count": 20,
      "outputs": [
        {
          "output_type": "stream",
          "name": "stdout",
          "text": [
            "    \n"
          ]
        }
      ]
    },
    {
      "cell_type": "code",
      "source": [
        "str=\"my name is my my\"\n",
        "st=str.count(\"my\")\n",
        "st1=str.count(\"m\")\n",
        "print(st)\n",
        "print(st1)"
      ],
      "metadata": {
        "colab": {
          "base_uri": "https://localhost:8080/"
        },
        "id": "DheC3WUV6t1S",
        "outputId": "975c915d-0c3c-4cb7-9c80-ca76f6e82e0a"
      },
      "execution_count": 23,
      "outputs": [
        {
          "output_type": "stream",
          "name": "stdout",
          "text": [
            "3\n",
            "4\n"
          ]
        }
      ]
    },
    {
      "cell_type": "code",
      "source": [
        "str=\"my name is arju\"\n",
        "st=str.find(\"arju\")\n",
        "print(st)\n",
        "\n"
      ],
      "metadata": {
        "colab": {
          "base_uri": "https://localhost:8080/"
        },
        "id": "p-mQjhpP8EF6",
        "outputId": "048cad5b-8028-4230-b7c1-2630b8c48a5e"
      },
      "execution_count": 27,
      "outputs": [
        {
          "output_type": "stream",
          "name": "stdout",
          "text": [
            "11\n"
          ]
        }
      ]
    },
    {
      "cell_type": "code",
      "source": [
        "str=\"my name is arju{}\"\n",
        "st=str.format(\"😊😊\")\n",
        "print(st)"
      ],
      "metadata": {
        "colab": {
          "base_uri": "https://localhost:8080/"
        },
        "id": "FrB8WBKx9ciV",
        "outputId": "a3a95bfc-6e99-4f9c-c872-b1051a6e5282"
      },
      "execution_count": 33,
      "outputs": [
        {
          "output_type": "stream",
          "name": "stdout",
          "text": [
            "my name is arju😊😊\n"
          ]
        }
      ]
    },
    {
      "cell_type": "code",
      "source": [
        "str=\"my name is arju {1} i want {0} live in {2} hello {st}\"\n",
        "st=str.format(\"singh\",\"to\",\"jaipur\",st=\"guyzz!!\")\n",
        "print(st)"
      ],
      "metadata": {
        "colab": {
          "base_uri": "https://localhost:8080/"
        },
        "id": "CuEFUZ5J-x_P",
        "outputId": "78680d0f-3703-4b09-8aa4-f7c6dbc12230"
      },
      "execution_count": 38,
      "outputs": [
        {
          "output_type": "stream",
          "name": "stdout",
          "text": [
            "my name is arju to i want singh live in jaipur hello guyzz!!\n"
          ]
        }
      ]
    },
    {
      "cell_type": "code",
      "source": [
        "str=input()\n",
        "st=str.find(\"my\")\n",
        "print(st)"
      ],
      "metadata": {
        "colab": {
          "base_uri": "https://localhost:8080/"
        },
        "id": "XBvcSMRy83du",
        "outputId": "dc6a1fd1-2d17-4db5-bf57-ab610f937e9b"
      },
      "execution_count": 28,
      "outputs": [
        {
          "output_type": "stream",
          "name": "stdout",
          "text": [
            "hello my name is\n",
            "6\n"
          ]
        }
      ]
    }
  ]
}