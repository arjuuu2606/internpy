{
  "nbformat": 4,
  "nbformat_minor": 0,
  "metadata": {
    "colab": {
      "provenance": [],
      "authorship_tag": "ABX9TyP8TZlXxlfMQ7ui1IWxfG1o",
      "include_colab_link": true
    },
    "kernelspec": {
      "name": "python3",
      "display_name": "Python 3"
    },
    "language_info": {
      "name": "python"
    }
  },
  "cells": [
    {
      "cell_type": "markdown",
      "metadata": {
        "id": "view-in-github",
        "colab_type": "text"
      },
      "source": [
        "<a href=\"https://colab.research.google.com/github/arjuuu2606/internpy/blob/beginning/tuple.ipynb\" target=\"_parent\"><img src=\"https://colab.research.google.com/assets/colab-badge.svg\" alt=\"Open In Colab\"/></a>"
      ]
    },
    {
      "cell_type": "code",
      "execution_count": 4,
      "metadata": {
        "colab": {
          "base_uri": "https://localhost:8080/"
        },
        "id": "QAGdXaemltNA",
        "outputId": "647b8ed6-bf1f-48c3-8149-b64979f61fab"
      },
      "outputs": [
        {
          "output_type": "stream",
          "name": "stdout",
          "text": [
            "('orange', 'mango')\n"
          ]
        }
      ],
      "source": [
        "result=tuple((\"orange\",\"mango\"))\n",
        "print(result)\n"
      ]
    },
    {
      "cell_type": "code",
      "source": [
        "result=tuple((\"orange\",\"mango\",\"banana\",\"strawberry\"))\n",
        "a=list(result)\n",
        "print(a[1])\n"
      ],
      "metadata": {
        "colab": {
          "base_uri": "https://localhost:8080/"
        },
        "id": "wwVUiI3vnI8B",
        "outputId": "17437fda-b31b-453b-c5ec-f12765ddd272"
      },
      "execution_count": 34,
      "outputs": [
        {
          "output_type": "stream",
          "name": "stdout",
          "text": [
            "mango\n"
          ]
        }
      ]
    },
    {
      "cell_type": "code",
      "source": [
        "result=tuple((\"orange\",\"mango\",\"banana\",\"strawberry\"))\n",
        "a=list(result)\n",
        "print(a)\n",
        "a.append(\"guawa\")\n",
        "print(a)\n",
        "a.pop(3)\n",
        "print(a)\n",
        "\n"
      ],
      "metadata": {
        "colab": {
          "base_uri": "https://localhost:8080/"
        },
        "id": "vZozvwXRnbe5",
        "outputId": "2e72bd5d-e9aa-473c-98e6-4fade36a4c29"
      },
      "execution_count": 14,
      "outputs": [
        {
          "output_type": "stream",
          "name": "stdout",
          "text": [
            "['orange', 'mango', 'banana', 'strawberry']\n",
            "['orange', 'mango', 'banana', 'strawberry', 'guawa']\n",
            "['orange', 'mango', 'banana', 'guawa']\n"
          ]
        }
      ]
    },
    {
      "cell_type": "code",
      "source": [
        "fruits=((\"mango\",\"banana\",\"grapes\",\"mango\"))\n",
        "res=[]\n",
        "for j in range(len(fruits)):\n",
        "  my_fruit=fruits[j]\n",
        "  count=0\n",
        "  for i in range(len(fruits)):\n",
        "    if i==j:\n",
        "      continue\n",
        "    if fruits[i]==fruits[j]:\n",
        "      count+=1\n",
        "  if count>0:\n",
        "    if fruits[j] not in res:\n",
        "      res.append(my_fruit)\n",
        "print(res)\n"
      ],
      "metadata": {
        "id": "u4w3Z8CHpkt7",
        "outputId": "fa2410a0-53c7-4c53-9c61-d8f088ef8f09",
        "colab": {
          "base_uri": "https://localhost:8080/"
        }
      },
      "execution_count": 19,
      "outputs": [
        {
          "output_type": "stream",
          "name": "stdout",
          "text": [
            "['mango']\n"
          ]
        }
      ]
    },
    {
      "cell_type": "code",
      "source": [],
      "metadata": {
        "id": "zGyS8uZZvX1d"
      },
      "execution_count": null,
      "outputs": []
    }
  ]
}