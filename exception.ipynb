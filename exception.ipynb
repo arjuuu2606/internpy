{
  "nbformat": 4,
  "nbformat_minor": 0,
  "metadata": {
    "colab": {
      "provenance": [],
      "authorship_tag": "ABX9TyPFGqmMLv6j/zXqIOgQ9rD/",
      "include_colab_link": true
    },
    "kernelspec": {
      "name": "python3",
      "display_name": "Python 3"
    },
    "language_info": {
      "name": "python"
    }
  },
  "cells": [
    {
      "cell_type": "markdown",
      "metadata": {
        "id": "view-in-github",
        "colab_type": "text"
      },
      "source": [
        "<a href=\"https://colab.research.google.com/github/arjuuu2606/internpy/blob/beginning/exception.ipynb\" target=\"_parent\"><img src=\"https://colab.research.google.com/assets/colab-badge.svg\" alt=\"Open In Colab\"/></a>"
      ]
    },
    {
      "cell_type": "code",
      "execution_count": null,
      "metadata": {
        "colab": {
          "base_uri": "https://localhost:8080/"
        },
        "id": "8kKsXIDqS7DB",
        "outputId": "ceb04111-56b6-49b8-fccf-b696fa94119e"
      },
      "outputs": [
        {
          "output_type": "stream",
          "name": "stdout",
          "text": [
            "you cannot add str and int\n"
          ]
        }
      ],
      "source": [
        "a=10\n",
        "b=\"hello\"\n",
        "try:\n",
        " z=a+b\n",
        "except:\n",
        "  print(\"you cannot add str and int\")\n",
        "\n"
      ]
    },
    {
      "cell_type": "code",
      "source": [
        "\n",
        "  try:\n",
        "    for i in range(1,20):\n",
        "      print(i)\n",
        "      if i>=5:\n",
        "       raise Exception (\"number is greater than 5\")\n",
        "  except Exception as e:\n",
        "    print(e)\n",
        "\n",
        "\n",
        "\n"
      ],
      "metadata": {
        "colab": {
          "base_uri": "https://localhost:8080/"
        },
        "id": "rLbLRCbmZKxs",
        "outputId": "70442cbb-2bd9-4203-a226-2a2c38e0a30d"
      },
      "execution_count": null,
      "outputs": [
        {
          "output_type": "stream",
          "name": "stdout",
          "text": [
            "1\n",
            "2\n",
            "3\n",
            "4\n",
            "5\n",
            "number is greater than 5\n"
          ]
        }
      ]
    },
    {
      "cell_type": "code",
      "source": [
        "try:\n",
        "    for i in range(1,20):\n",
        "      print(i)\n",
        "      if i>=5:\n",
        "       raise Exception (\"number is greater than 5\")\n",
        "except Exception as e:\n",
        "    print(e)\n",
        "finally:\n",
        "  print(10)\n"
      ],
      "metadata": {
        "colab": {
          "base_uri": "https://localhost:8080/"
        },
        "id": "aeLvitZ5eDFK",
        "outputId": "db017206-cdca-4820-e85e-990f16b2954c"
      },
      "execution_count": null,
      "outputs": [
        {
          "output_type": "stream",
          "name": "stdout",
          "text": [
            "1\n",
            "2\n",
            "3\n",
            "4\n",
            "5\n",
            "number is greater than 5\n",
            "10\n"
          ]
        }
      ]
    },
    {
      "cell_type": "code",
      "source": [
        "try:\n",
        "    for i in range(1,5):\n",
        "      print(i)\n",
        "      if i>=5:\n",
        "       raise Exception (\"number is greater than 5\")\n",
        "except Exception as e:\n",
        "    print(e)\n",
        "else:\n",
        "  print(\"executed\")\n"
      ],
      "metadata": {
        "colab": {
          "base_uri": "https://localhost:8080/"
        },
        "id": "bSgaGmrWfHNk",
        "outputId": "cad89201-9ac1-449d-a551-e891f4f6ec4e"
      },
      "execution_count": null,
      "outputs": [
        {
          "output_type": "stream",
          "name": "stdout",
          "text": [
            "1\n",
            "2\n",
            "3\n",
            "4\n",
            "executed\n"
          ]
        }
      ]
    }
  ]
}